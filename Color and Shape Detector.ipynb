{
 "cells": [
  {
   "cell_type": "code",
   "execution_count": 2,
   "metadata": {},
   "outputs": [],
   "source": [
    "import numpy as np\n",
    "import cv2"
   ]
  },
  {
   "cell_type": "code",
   "execution_count": 1,
   "metadata": {},
   "outputs": [
    {
     "ename": "ModuleNotFoundError",
     "evalue": "No module named 'pyimagesearch'",
     "output_type": "error",
     "traceback": [
      "\u001b[0;31m---------------------------------------------------------------------------\u001b[0m",
      "\u001b[0;31mModuleNotFoundError\u001b[0m                       Traceback (most recent call last)",
      "\u001b[0;32m<ipython-input-1-eae4da8fdb70>\u001b[0m in \u001b[0;36m<module>\u001b[0;34m\u001b[0m\n\u001b[0;32m----> 1\u001b[0;31m \u001b[0;32mfrom\u001b[0m \u001b[0mpyimagesearch\u001b[0m\u001b[0;34m.\u001b[0m\u001b[0mshapedetector\u001b[0m \u001b[0;32mimport\u001b[0m \u001b[0mShapeDetector\u001b[0m\u001b[0;34m\u001b[0m\u001b[0;34m\u001b[0m\u001b[0m\n\u001b[0m",
      "\u001b[0;31mModuleNotFoundError\u001b[0m: No module named 'pyimagesearch'"
     ]
    }
   ],
   "source": []
  },
  {
   "cell_type": "code",
   "execution_count": null,
   "metadata": {},
   "outputs": [],
   "source": [
    "class World():\n",
    "    def __init__(self, params):\n",
    "        assert(params['world_size'][0] * params['world_size'][1] > params['num_agents']), 'Grid too small for number of agents.'\n",
    "        self.params = params\n",
    "        \n",
    "        self.grid     = self.build_grid(  params['world_size'])\n",
    "        self.agents   = self.build_agents(params['num_agents'], params['same_pref_for_red'],params['same_pref_for_blue'])\n",
    "        \n",
    "        self.init_world()\n",
    "        \n",
    "    def build_grid(self, world_size):\n",
    "        #create the world that the agents can move around on\n",
    "        locations = [(i,j) for i in range(world_size[0]) for j in range(world_size[1])]\n",
    "        return {l:None for l in locations}\n",
    "    \n",
    "    def build_agents(self, num_agents, same_pref_for_red,same_pref_for_blue ):#added for the homework\n",
    "        #generate a list of Agents that can be iterated over\n",
    "        \n",
    "        def _kind_picker(i, same_pref_for_red,same_pref_for_blue):\n",
    "            if same_pref_for_red > same_pref_for_blue:\n",
    "                return 'red'\n",
    "            else:\n",
    "                return 'blue'\n",
    "            \n",
    "        return [Agent(_kind_picker(i,same_pref_for_red,same_pref_for_blue), same_pref_for_red,same_pref_for_blue) for i in range(num_agents)]\n",
    "    \n",
    "    def init_world(self):\n",
    "        #a method for all the steps necessary to create the starting point of the model\n",
    "        \n",
    "        for agent in self.agents:\n",
    "            while True:\n",
    "                x = random.randint(0, self.params['world_size'][0])\n",
    "                y = random.randint(0, self.params['world_size'][1])\n",
    "                \n",
    "                if self.grid[(x,y)] is None:\n",
    "                    self.grid[(x,y)] = agent\n",
    "                    agent.location = (x,y)\n",
    "                    break\n",
    "                    \n",
    "        assert(all([agent.location is not None for agent in self.agents])), \"Some agents don't have homes!\"\n",
    "        assert(sum([occupant is not None for occupant in self.grid.values()]) == self.params['num_agents']), 'Mismatch between number of agents and number of locations with agents.'\n",
    "        \n",
    "    def run(self):\n",
    "        #handle the iterations of the model\n",
    "        pass\n",
    "    \n",
    "    def report(self):\n",
    "        #report final results after run ends\n",
    "        pass"
   ]
  },
  {
   "cell_type": "code",
   "execution_count": 4,
   "metadata": {},
   "outputs": [],
   "source": []
  },
  {
   "cell_type": "code",
   "execution_count": null,
   "metadata": {},
   "outputs": [],
   "source": []
  },
  {
   "cell_type": "code",
   "execution_count": null,
   "metadata": {},
   "outputs": [],
   "source": [
    "def __init__(self, params):\n",
    "        assert(params['world_size'][0] * params['world_size'][1] > params['num_agents']), 'Grid too small for number of agents.'\n",
    "        self.params = params\n",
    "        \n",
    "        self.grid     = self.build_grid(  params['world_size'])\n",
    "        self.agents   = self.build_agents(params['num_agents'], params['same_pref_for_red'],params['same_pref_for_blue'])\n",
    "        \n",
    "        self.init_world()"
   ]
  }
 ],
 "metadata": {
  "kernelspec": {
   "display_name": "Python 3",
   "language": "python",
   "name": "python3"
  },
  "language_info": {
   "codemirror_mode": {
    "name": "ipython",
    "version": 3
   },
   "file_extension": ".py",
   "mimetype": "text/x-python",
   "name": "python",
   "nbconvert_exporter": "python",
   "pygments_lexer": "ipython3",
   "version": "3.6.8"
  }
 },
 "nbformat": 4,
 "nbformat_minor": 2
}
